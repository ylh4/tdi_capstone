{
 "cells": [
  {
   "cell_type": "code",
   "execution_count": 610,
   "metadata": {},
   "outputs": [],
   "source": [
    "from math import sqrt\n",
    "from numpy import concatenate\n",
    "from matplotlib import pyplot\n",
    "from pandas import read_csv\n",
    "from pandas import DataFrame\n",
    "from pandas import concat\n",
    "from sklearn.preprocessing import MinMaxScaler\n",
    "from sklearn.preprocessing import LabelEncoder\n",
    "from sklearn.metrics import mean_squared_error\n",
    "from keras.models import Sequential\n",
    "from keras.layers import Dense\n",
    "from keras.layers import LSTM\n",
    "import pandas as pd\n",
    "import numpy as np"
   ]
  },
  {
   "cell_type": "code",
   "execution_count": 611,
   "metadata": {},
   "outputs": [
    {
     "data": {
      "text/plain": [
       "['admin1',\n",
       " 'admin2',\n",
       " 'year',\n",
       " 'month',\n",
       " 'fatalities',\n",
       " 'cc_event_count',\n",
       " 'actor_state',\n",
       " 'actor_rebel_groups',\n",
       " 'actor_political_militias',\n",
       " 'actor_identity_militias',\n",
       " 'actor_civilians',\n",
       " 'actor_others',\n",
       " 'cc_onset',\n",
       " 'admin0',\n",
       " 'inflation_all',\n",
       " 'inflation_food',\n",
       " 'inflation_non_food',\n",
       " 'rainfall',\n",
       " 'rainfall_lag',\n",
       " 'temperature mean',\n",
       " 'btotl',\n",
       " 'maize_ETB_KG',\n",
       " 'teff_ETB_KG',\n",
       " 'wheat_ETB_KG',\n",
       " 'mean ndvi',\n",
       " 'ndvi_lag',\n",
       " 'fs_Crisis',\n",
       " 'fs_Emergency',\n",
       " 'fs_Famine',\n",
       " 'fs_Minimal',\n",
       " 'fs_Stressed',\n",
       " 'cluster']"
      ]
     },
     "execution_count": 611,
     "metadata": {},
     "output_type": "execute_result"
    }
   ],
   "source": [
    "url = 'https://data.kimetrica.com/dataset/4dbc3cc7-9474-49f2-bfd4-231e78401caa/resource/7423b71d-ce8c-437c-9fe6-2d9ba58d6155/download/dataset_communal_cnflict_model.csv'\n",
    "df = pd.read_csv(url, index_col=0)\n",
    "list(df.columns)"
   ]
  },
  {
   "cell_type": "code",
   "execution_count": 612,
   "metadata": {},
   "outputs": [],
   "source": [
    "df=df.loc[df['year']<2019]\n",
    "df=df.loc[df['year']>2006]\n",
    "df1 = df.groupby([\"year\", 'month'])['fatalities'].sum().reset_index()\n"
   ]
  },
  {
   "cell_type": "code",
   "execution_count": 613,
   "metadata": {},
   "outputs": [
    {
     "data": {
      "text/html": [
       "<div>\n",
       "<style scoped>\n",
       "    .dataframe tbody tr th:only-of-type {\n",
       "        vertical-align: middle;\n",
       "    }\n",
       "\n",
       "    .dataframe tbody tr th {\n",
       "        vertical-align: top;\n",
       "    }\n",
       "\n",
       "    .dataframe thead th {\n",
       "        text-align: right;\n",
       "    }\n",
       "</style>\n",
       "<table border=\"1\" class=\"dataframe\">\n",
       "  <thead>\n",
       "    <tr style=\"text-align: right;\">\n",
       "      <th></th>\n",
       "      <th>year</th>\n",
       "      <th>month</th>\n",
       "      <th>rainfall</th>\n",
       "      <th>temperature mean</th>\n",
       "      <th>btotl</th>\n",
       "      <th>maize_ETB_KG</th>\n",
       "      <th>teff_ETB_KG</th>\n",
       "      <th>wheat_ETB_KG</th>\n",
       "      <th>mean ndvi</th>\n",
       "      <th>ndvi_lag</th>\n",
       "    </tr>\n",
       "  </thead>\n",
       "  <tbody>\n",
       "    <tr>\n",
       "      <th>0</th>\n",
       "      <td>2007</td>\n",
       "      <td>1</td>\n",
       "      <td>6.364801</td>\n",
       "      <td>11.650927</td>\n",
       "      <td>2.243625e+06</td>\n",
       "      <td>0.0</td>\n",
       "      <td>0.0</td>\n",
       "      <td>0.0</td>\n",
       "      <td>79.947454</td>\n",
       "      <td>0.000000</td>\n",
       "    </tr>\n",
       "    <tr>\n",
       "      <th>1</th>\n",
       "      <td>2007</td>\n",
       "      <td>2</td>\n",
       "      <td>10.239675</td>\n",
       "      <td>12.587854</td>\n",
       "      <td>2.243625e+06</td>\n",
       "      <td>0.0</td>\n",
       "      <td>0.0</td>\n",
       "      <td>0.0</td>\n",
       "      <td>76.640501</td>\n",
       "      <td>79.947454</td>\n",
       "    </tr>\n",
       "    <tr>\n",
       "      <th>2</th>\n",
       "      <td>2007</td>\n",
       "      <td>3</td>\n",
       "      <td>20.647086</td>\n",
       "      <td>13.242642</td>\n",
       "      <td>2.243625e+06</td>\n",
       "      <td>0.0</td>\n",
       "      <td>0.0</td>\n",
       "      <td>0.0</td>\n",
       "      <td>75.308561</td>\n",
       "      <td>76.640501</td>\n",
       "    </tr>\n",
       "    <tr>\n",
       "      <th>3</th>\n",
       "      <td>2007</td>\n",
       "      <td>4</td>\n",
       "      <td>48.321490</td>\n",
       "      <td>13.278359</td>\n",
       "      <td>2.243625e+06</td>\n",
       "      <td>0.0</td>\n",
       "      <td>0.0</td>\n",
       "      <td>0.0</td>\n",
       "      <td>78.987054</td>\n",
       "      <td>75.308561</td>\n",
       "    </tr>\n",
       "    <tr>\n",
       "      <th>4</th>\n",
       "      <td>2007</td>\n",
       "      <td>5</td>\n",
       "      <td>60.878059</td>\n",
       "      <td>13.284965</td>\n",
       "      <td>2.243625e+06</td>\n",
       "      <td>0.0</td>\n",
       "      <td>0.0</td>\n",
       "      <td>0.0</td>\n",
       "      <td>82.624523</td>\n",
       "      <td>78.987054</td>\n",
       "    </tr>\n",
       "  </tbody>\n",
       "</table>\n",
       "</div>"
      ],
      "text/plain": [
       "   year  month   rainfall  temperature mean         btotl  maize_ETB_KG  \\\n",
       "0  2007      1   6.364801         11.650927  2.243625e+06           0.0   \n",
       "1  2007      2  10.239675         12.587854  2.243625e+06           0.0   \n",
       "2  2007      3  20.647086         13.242642  2.243625e+06           0.0   \n",
       "3  2007      4  48.321490         13.278359  2.243625e+06           0.0   \n",
       "4  2007      5  60.878059         13.284965  2.243625e+06           0.0   \n",
       "\n",
       "   teff_ETB_KG  wheat_ETB_KG  mean ndvi   ndvi_lag  \n",
       "0          0.0           0.0  79.947454   0.000000  \n",
       "1          0.0           0.0  76.640501  79.947454  \n",
       "2          0.0           0.0  75.308561  76.640501  \n",
       "3          0.0           0.0  78.987054  75.308561  \n",
       "4          0.0           0.0  82.624523  78.987054  "
      ]
     },
     "execution_count": 613,
     "metadata": {},
     "output_type": "execute_result"
    }
   ],
   "source": [
    "df2=df.groupby([\"year\", 'month'])['rainfall','temperature mean', 'btotl',\n",
    " 'maize_ETB_KG',\n",
    " 'teff_ETB_KG',\n",
    " 'wheat_ETB_KG',\n",
    " 'mean ndvi',\n",
    " 'ndvi_lag'].mean().reset_index()\n",
    "df2.head()"
   ]
  },
  {
   "cell_type": "code",
   "execution_count": 614,
   "metadata": {},
   "outputs": [
    {
     "data": {
      "text/html": [
       "<div>\n",
       "<style scoped>\n",
       "    .dataframe tbody tr th:only-of-type {\n",
       "        vertical-align: middle;\n",
       "    }\n",
       "\n",
       "    .dataframe tbody tr th {\n",
       "        vertical-align: top;\n",
       "    }\n",
       "\n",
       "    .dataframe thead th {\n",
       "        text-align: right;\n",
       "    }\n",
       "</style>\n",
       "<table border=\"1\" class=\"dataframe\">\n",
       "  <thead>\n",
       "    <tr style=\"text-align: right;\">\n",
       "      <th></th>\n",
       "      <th>year</th>\n",
       "      <th>month</th>\n",
       "      <th>fatalities</th>\n",
       "      <th>rainfall</th>\n",
       "      <th>temperature mean</th>\n",
       "      <th>btotl</th>\n",
       "      <th>maize_ETB_KG</th>\n",
       "      <th>teff_ETB_KG</th>\n",
       "      <th>wheat_ETB_KG</th>\n",
       "      <th>mean ndvi</th>\n",
       "      <th>ndvi_lag</th>\n",
       "    </tr>\n",
       "  </thead>\n",
       "  <tbody>\n",
       "    <tr>\n",
       "      <th>0</th>\n",
       "      <td>2007</td>\n",
       "      <td>1</td>\n",
       "      <td>0.0</td>\n",
       "      <td>6.364801</td>\n",
       "      <td>11.650927</td>\n",
       "      <td>2.243625e+06</td>\n",
       "      <td>0.0</td>\n",
       "      <td>0.0</td>\n",
       "      <td>0.0</td>\n",
       "      <td>79.947454</td>\n",
       "      <td>0.000000</td>\n",
       "    </tr>\n",
       "    <tr>\n",
       "      <th>1</th>\n",
       "      <td>2007</td>\n",
       "      <td>2</td>\n",
       "      <td>19.0</td>\n",
       "      <td>10.239675</td>\n",
       "      <td>12.587854</td>\n",
       "      <td>2.243625e+06</td>\n",
       "      <td>0.0</td>\n",
       "      <td>0.0</td>\n",
       "      <td>0.0</td>\n",
       "      <td>76.640501</td>\n",
       "      <td>79.947454</td>\n",
       "    </tr>\n",
       "    <tr>\n",
       "      <th>2</th>\n",
       "      <td>2007</td>\n",
       "      <td>3</td>\n",
       "      <td>0.0</td>\n",
       "      <td>20.647086</td>\n",
       "      <td>13.242642</td>\n",
       "      <td>2.243625e+06</td>\n",
       "      <td>0.0</td>\n",
       "      <td>0.0</td>\n",
       "      <td>0.0</td>\n",
       "      <td>75.308561</td>\n",
       "      <td>76.640501</td>\n",
       "    </tr>\n",
       "    <tr>\n",
       "      <th>3</th>\n",
       "      <td>2007</td>\n",
       "      <td>4</td>\n",
       "      <td>0.0</td>\n",
       "      <td>48.321490</td>\n",
       "      <td>13.278359</td>\n",
       "      <td>2.243625e+06</td>\n",
       "      <td>0.0</td>\n",
       "      <td>0.0</td>\n",
       "      <td>0.0</td>\n",
       "      <td>78.987054</td>\n",
       "      <td>75.308561</td>\n",
       "    </tr>\n",
       "    <tr>\n",
       "      <th>4</th>\n",
       "      <td>2007</td>\n",
       "      <td>5</td>\n",
       "      <td>0.0</td>\n",
       "      <td>60.878059</td>\n",
       "      <td>13.284965</td>\n",
       "      <td>2.243625e+06</td>\n",
       "      <td>0.0</td>\n",
       "      <td>0.0</td>\n",
       "      <td>0.0</td>\n",
       "      <td>82.624523</td>\n",
       "      <td>78.987054</td>\n",
       "    </tr>\n",
       "  </tbody>\n",
       "</table>\n",
       "</div>"
      ],
      "text/plain": [
       "   year  month  fatalities   rainfall  temperature mean         btotl  \\\n",
       "0  2007      1         0.0   6.364801         11.650927  2.243625e+06   \n",
       "1  2007      2        19.0  10.239675         12.587854  2.243625e+06   \n",
       "2  2007      3         0.0  20.647086         13.242642  2.243625e+06   \n",
       "3  2007      4         0.0  48.321490         13.278359  2.243625e+06   \n",
       "4  2007      5         0.0  60.878059         13.284965  2.243625e+06   \n",
       "\n",
       "   maize_ETB_KG  teff_ETB_KG  wheat_ETB_KG  mean ndvi   ndvi_lag  \n",
       "0           0.0          0.0           0.0  79.947454   0.000000  \n",
       "1           0.0          0.0           0.0  76.640501  79.947454  \n",
       "2           0.0          0.0           0.0  75.308561  76.640501  \n",
       "3           0.0          0.0           0.0  78.987054  75.308561  \n",
       "4           0.0          0.0           0.0  82.624523  78.987054  "
      ]
     },
     "execution_count": 614,
     "metadata": {},
     "output_type": "execute_result"
    }
   ],
   "source": [
    "df3=pd.merge(df1, df2, how='left', on=['year', 'month'])\n",
    "df3.head()"
   ]
  },
  {
   "cell_type": "code",
   "execution_count": 615,
   "metadata": {},
   "outputs": [],
   "source": [
    "df3['date'] = pd.to_datetime(df3.assign(Day=1).loc[:, ['year','month','Day']])"
   ]
  },
  {
   "cell_type": "code",
   "execution_count": 616,
   "metadata": {},
   "outputs": [
    {
     "data": {
      "text/html": [
       "<div>\n",
       "<style scoped>\n",
       "    .dataframe tbody tr th:only-of-type {\n",
       "        vertical-align: middle;\n",
       "    }\n",
       "\n",
       "    .dataframe tbody tr th {\n",
       "        vertical-align: top;\n",
       "    }\n",
       "\n",
       "    .dataframe thead th {\n",
       "        text-align: right;\n",
       "    }\n",
       "</style>\n",
       "<table border=\"1\" class=\"dataframe\">\n",
       "  <thead>\n",
       "    <tr style=\"text-align: right;\">\n",
       "      <th></th>\n",
       "      <th>date</th>\n",
       "      <th>fatalities</th>\n",
       "      <th>rainfall</th>\n",
       "      <th>temperature mean</th>\n",
       "      <th>btotl</th>\n",
       "      <th>maize_ETB_KG</th>\n",
       "      <th>teff_ETB_KG</th>\n",
       "      <th>wheat_ETB_KG</th>\n",
       "      <th>mean ndvi</th>\n",
       "      <th>ndvi_lag</th>\n",
       "    </tr>\n",
       "  </thead>\n",
       "  <tbody>\n",
       "    <tr>\n",
       "      <th>0</th>\n",
       "      <td>2007-01-01</td>\n",
       "      <td>0.0</td>\n",
       "      <td>6.364801</td>\n",
       "      <td>11.650927</td>\n",
       "      <td>2.243625e+06</td>\n",
       "      <td>0.0</td>\n",
       "      <td>0.0</td>\n",
       "      <td>0.0</td>\n",
       "      <td>79.947454</td>\n",
       "      <td>0.000000</td>\n",
       "    </tr>\n",
       "    <tr>\n",
       "      <th>1</th>\n",
       "      <td>2007-02-01</td>\n",
       "      <td>19.0</td>\n",
       "      <td>10.239675</td>\n",
       "      <td>12.587854</td>\n",
       "      <td>2.243625e+06</td>\n",
       "      <td>0.0</td>\n",
       "      <td>0.0</td>\n",
       "      <td>0.0</td>\n",
       "      <td>76.640501</td>\n",
       "      <td>79.947454</td>\n",
       "    </tr>\n",
       "    <tr>\n",
       "      <th>2</th>\n",
       "      <td>2007-03-01</td>\n",
       "      <td>0.0</td>\n",
       "      <td>20.647086</td>\n",
       "      <td>13.242642</td>\n",
       "      <td>2.243625e+06</td>\n",
       "      <td>0.0</td>\n",
       "      <td>0.0</td>\n",
       "      <td>0.0</td>\n",
       "      <td>75.308561</td>\n",
       "      <td>76.640501</td>\n",
       "    </tr>\n",
       "    <tr>\n",
       "      <th>3</th>\n",
       "      <td>2007-04-01</td>\n",
       "      <td>0.0</td>\n",
       "      <td>48.321490</td>\n",
       "      <td>13.278359</td>\n",
       "      <td>2.243625e+06</td>\n",
       "      <td>0.0</td>\n",
       "      <td>0.0</td>\n",
       "      <td>0.0</td>\n",
       "      <td>78.987054</td>\n",
       "      <td>75.308561</td>\n",
       "    </tr>\n",
       "    <tr>\n",
       "      <th>4</th>\n",
       "      <td>2007-05-01</td>\n",
       "      <td>0.0</td>\n",
       "      <td>60.878059</td>\n",
       "      <td>13.284965</td>\n",
       "      <td>2.243625e+06</td>\n",
       "      <td>0.0</td>\n",
       "      <td>0.0</td>\n",
       "      <td>0.0</td>\n",
       "      <td>82.624523</td>\n",
       "      <td>78.987054</td>\n",
       "    </tr>\n",
       "  </tbody>\n",
       "</table>\n",
       "</div>"
      ],
      "text/plain": [
       "        date  fatalities   rainfall  temperature mean         btotl  \\\n",
       "0 2007-01-01         0.0   6.364801         11.650927  2.243625e+06   \n",
       "1 2007-02-01        19.0  10.239675         12.587854  2.243625e+06   \n",
       "2 2007-03-01         0.0  20.647086         13.242642  2.243625e+06   \n",
       "3 2007-04-01         0.0  48.321490         13.278359  2.243625e+06   \n",
       "4 2007-05-01         0.0  60.878059         13.284965  2.243625e+06   \n",
       "\n",
       "   maize_ETB_KG  teff_ETB_KG  wheat_ETB_KG  mean ndvi   ndvi_lag  \n",
       "0           0.0          0.0           0.0  79.947454   0.000000  \n",
       "1           0.0          0.0           0.0  76.640501  79.947454  \n",
       "2           0.0          0.0           0.0  75.308561  76.640501  \n",
       "3           0.0          0.0           0.0  78.987054  75.308561  \n",
       "4           0.0          0.0           0.0  82.624523  78.987054  "
      ]
     },
     "execution_count": 616,
     "metadata": {},
     "output_type": "execute_result"
    }
   ],
   "source": [
    "df4=df3[['date', 'fatalities', 'rainfall', 'temperature mean','btotl',\n",
    " 'maize_ETB_KG',\n",
    " 'teff_ETB_KG',\n",
    " 'wheat_ETB_KG',\n",
    " 'mean ndvi',\n",
    " 'ndvi_lag']]\n",
    "df4.head()"
   ]
  },
  {
   "cell_type": "code",
   "execution_count": 617,
   "metadata": {},
   "outputs": [
    {
     "data": {
      "text/html": [
       "<div>\n",
       "<style scoped>\n",
       "    .dataframe tbody tr th:only-of-type {\n",
       "        vertical-align: middle;\n",
       "    }\n",
       "\n",
       "    .dataframe tbody tr th {\n",
       "        vertical-align: top;\n",
       "    }\n",
       "\n",
       "    .dataframe thead th {\n",
       "        text-align: right;\n",
       "    }\n",
       "</style>\n",
       "<table border=\"1\" class=\"dataframe\">\n",
       "  <thead>\n",
       "    <tr style=\"text-align: right;\">\n",
       "      <th></th>\n",
       "      <th>fatalities</th>\n",
       "      <th>rainfall</th>\n",
       "      <th>temperature mean</th>\n",
       "      <th>btotl</th>\n",
       "      <th>maize_ETB_KG</th>\n",
       "      <th>teff_ETB_KG</th>\n",
       "      <th>wheat_ETB_KG</th>\n",
       "      <th>mean ndvi</th>\n",
       "      <th>ndvi_lag</th>\n",
       "    </tr>\n",
       "    <tr>\n",
       "      <th>date</th>\n",
       "      <th></th>\n",
       "      <th></th>\n",
       "      <th></th>\n",
       "      <th></th>\n",
       "      <th></th>\n",
       "      <th></th>\n",
       "      <th></th>\n",
       "      <th></th>\n",
       "      <th></th>\n",
       "    </tr>\n",
       "  </thead>\n",
       "  <tbody>\n",
       "    <tr>\n",
       "      <th>2007-01-01</th>\n",
       "      <td>0.0</td>\n",
       "      <td>6.364801</td>\n",
       "      <td>11.650927</td>\n",
       "      <td>2.243625e+06</td>\n",
       "      <td>0.0</td>\n",
       "      <td>0.0</td>\n",
       "      <td>0.0</td>\n",
       "      <td>79.947454</td>\n",
       "      <td>0.000000</td>\n",
       "    </tr>\n",
       "    <tr>\n",
       "      <th>2007-02-01</th>\n",
       "      <td>19.0</td>\n",
       "      <td>10.239675</td>\n",
       "      <td>12.587854</td>\n",
       "      <td>2.243625e+06</td>\n",
       "      <td>0.0</td>\n",
       "      <td>0.0</td>\n",
       "      <td>0.0</td>\n",
       "      <td>76.640501</td>\n",
       "      <td>79.947454</td>\n",
       "    </tr>\n",
       "    <tr>\n",
       "      <th>2007-03-01</th>\n",
       "      <td>0.0</td>\n",
       "      <td>20.647086</td>\n",
       "      <td>13.242642</td>\n",
       "      <td>2.243625e+06</td>\n",
       "      <td>0.0</td>\n",
       "      <td>0.0</td>\n",
       "      <td>0.0</td>\n",
       "      <td>75.308561</td>\n",
       "      <td>76.640501</td>\n",
       "    </tr>\n",
       "    <tr>\n",
       "      <th>2007-04-01</th>\n",
       "      <td>0.0</td>\n",
       "      <td>48.321490</td>\n",
       "      <td>13.278359</td>\n",
       "      <td>2.243625e+06</td>\n",
       "      <td>0.0</td>\n",
       "      <td>0.0</td>\n",
       "      <td>0.0</td>\n",
       "      <td>78.987054</td>\n",
       "      <td>75.308561</td>\n",
       "    </tr>\n",
       "    <tr>\n",
       "      <th>2007-05-01</th>\n",
       "      <td>0.0</td>\n",
       "      <td>60.878059</td>\n",
       "      <td>13.284965</td>\n",
       "      <td>2.243625e+06</td>\n",
       "      <td>0.0</td>\n",
       "      <td>0.0</td>\n",
       "      <td>0.0</td>\n",
       "      <td>82.624523</td>\n",
       "      <td>78.987054</td>\n",
       "    </tr>\n",
       "  </tbody>\n",
       "</table>\n",
       "</div>"
      ],
      "text/plain": [
       "            fatalities   rainfall  temperature mean         btotl  \\\n",
       "date                                                                \n",
       "2007-01-01         0.0   6.364801         11.650927  2.243625e+06   \n",
       "2007-02-01        19.0  10.239675         12.587854  2.243625e+06   \n",
       "2007-03-01         0.0  20.647086         13.242642  2.243625e+06   \n",
       "2007-04-01         0.0  48.321490         13.278359  2.243625e+06   \n",
       "2007-05-01         0.0  60.878059         13.284965  2.243625e+06   \n",
       "\n",
       "            maize_ETB_KG  teff_ETB_KG  wheat_ETB_KG  mean ndvi   ndvi_lag  \n",
       "date                                                                       \n",
       "2007-01-01           0.0          0.0           0.0  79.947454   0.000000  \n",
       "2007-02-01           0.0          0.0           0.0  76.640501  79.947454  \n",
       "2007-03-01           0.0          0.0           0.0  75.308561  76.640501  \n",
       "2007-04-01           0.0          0.0           0.0  78.987054  75.308561  \n",
       "2007-05-01           0.0          0.0           0.0  82.624523  78.987054  "
      ]
     },
     "execution_count": 617,
     "metadata": {},
     "output_type": "execute_result"
    }
   ],
   "source": [
    "df4 = df4.set_index([\"date\"]) \n",
    "df4.head()"
   ]
  },
  {
   "cell_type": "code",
   "execution_count": 618,
   "metadata": {},
   "outputs": [
    {
     "data": {
      "image/png": "[encoded data removed]",
      "text/plain": [
       "<Figure size 432x288 with 9 Axes>"
      ]
     },
     "metadata": {
      "needs_background": "light"
     },
     "output_type": "display_data"
    }
   ],
   "source": [
    "from matplotlib import pyplot\n",
    "# load dataset\n",
    "values = df4.values\n",
    "# specify columns to plot\n",
    "groups = [0, 1, 2, 3, 4, 5, 6, 7, 8]\n",
    "i = 1\n",
    "# plot each column\n",
    "pyplot.figure()\n",
    "for group in groups:\n",
    "    pyplot.subplot(len(groups), 1, i)\n",
    "    pyplot.plot(values[:, group])\n",
    "    pyplot.title(df4.columns[group], y=0.5, loc='right')\n",
    "    i += 1\n",
    "pyplot.show()"
   ]
  },
  {
   "cell_type": "code",
   "execution_count": 619,
   "metadata": {},
   "outputs": [
    {
     "name": "stdout",
     "output_type": "stream",
     "text": [
      "   var1(t-1)  var2(t-1)  var3(t-1)  var4(t-1)  var5(t-1)  var6(t-1)  \\\n",
      "1   0.000000   0.030685   0.055944        1.0        0.0        0.0   \n",
      "2   0.048593   0.060753   0.629371        1.0        0.0        0.0   \n",
      "3   0.000000   0.141511   0.860140        1.0        0.0        0.0   \n",
      "4   0.000000   0.356255   0.867133        1.0        0.0        0.0   \n",
      "5   0.000000   0.453689   0.881119        1.0        0.0        0.0   \n",
      "\n",
      "   var7(t-1)  var8(t-1)  var9(t-1)   var1(t)   var2(t)   var3(t)  var4(t)  \\\n",
      "1        0.0   0.417610   0.000000  0.048593  0.060753  0.629371      1.0   \n",
      "2        0.0   0.239627   0.880786  0.000000  0.141511  0.860140      1.0   \n",
      "3        0.0   0.167941   0.844353  0.000000  0.356255  0.867133      1.0   \n",
      "4        0.0   0.365921   0.829679  0.000000  0.453689  0.881119      1.0   \n",
      "5        0.0   0.561692   0.870205  0.000000  0.648105  0.573427      1.0   \n",
      "\n",
      "   var5(t)  var6(t)  var7(t)   var8(t)   var9(t)  \n",
      "1      0.0      0.0      0.0  0.239627  0.880786  \n",
      "2      0.0      0.0      0.0  0.167941  0.844353  \n",
      "3      0.0      0.0      0.0  0.365921  0.829679  \n",
      "4      0.0      0.0      0.0  0.561692  0.870205  \n",
      "5      0.0      0.0      0.0  0.620197  0.910279  \n"
     ]
    }
   ],
   "source": [
    "\n",
    "# convert series to supervised learning\n",
    "def series_to_supervised(df4, n_in=1, n_out=1, dropnan=True):\n",
    "    n_vars = 1 if type(df4) is list else df4.shape[1]\n",
    "    df = pd.DataFrame(df4)\n",
    "    cols, names = list(), list()\n",
    "    # input sequence (t-n, ... t-1)\n",
    "    for i in range(n_in, 0, -1):\n",
    "        cols.append(df.shift(i))\n",
    "        names += [('var%d(t-%d)' % (j+1, i)) for j in range(n_vars)]\n",
    "    # forecast sequence (t, t+1, ... t+n)\n",
    "    for i in range(0, n_out):\n",
    "        cols.append(df.shift(-i))\n",
    "        if i == 0:\n",
    "            names += [('var%d(t)' % (j+1)) for j in range(n_vars)]\n",
    "        else:\n",
    "                names += [('var%d(t+%d)' % (j+1, i)) for j in range(n_vars)]\n",
    "    # put it all together\n",
    "    agg = pd.concat(cols, axis=1)\n",
    "    agg.columns = names\n",
    "    # drop rows with NaN values\n",
    "    if dropnan:\n",
    "        agg.dropna(inplace=True)\n",
    "    return agg\n",
    " \n",
    "# load dataset\n",
    "values = df4.values\n",
    "# integer encode direction\n",
    "encoder = LabelEncoder()\n",
    "values[:,2] = encoder.fit_transform(values[:,2])\n",
    "# ensure all data is float\n",
    "values = values.astype('float32')\n",
    "# normalize features\n",
    "scaler = MinMaxScaler(feature_range=(0, 1))\n",
    "scaled = scaler.fit_transform(values)\n",
    "# frame as supervised learning\n",
    "reframed = series_to_supervised(scaled, 1, 1)\n",
    "# drop columns we don't want to predict\n",
    "#reframed.drop(reframed.columns[[9,10,11,12,13,14,15]], axis=1, inplace=True)\n",
    "print(reframed.head())"
   ]
  },
  {
   "cell_type": "code",
   "execution_count": 620,
   "metadata": {},
   "outputs": [
    {
     "name": "stdout",
     "output_type": "stream",
     "text": [
      "(12, 1, 17) (12,) (131, 1, 17) (131,)\n"
     ]
    }
   ],
   "source": [
    "# split into train and test sets\n",
    "values = reframed.values\n",
    "n_train_months = 12\n",
    "train = values[:n_train_months, :]\n",
    "test = values[n_train_months:, :]\n",
    "# split into input and outputs\n",
    "train_X, train_y = train[:, :-1], train[:, -1]\n",
    "test_X, test_y = test[:, :-1], test[:, -1]\n",
    "# reshape input to be 3D [samples, timesteps, features]\n",
    "train_X = train_X.reshape((train_X.shape[0], 1, train_X.shape[1]))\n",
    "test_X = test_X.reshape((test_X.shape[0], 1, test_X.shape[1]))\n",
    "print(train_X.shape, train_y.shape, test_X.shape, test_y.shape)"
   ]
  },
  {
   "cell_type": "code",
   "execution_count": 621,
   "metadata": {},
   "outputs": [
    {
     "name": "stdout",
     "output_type": "stream",
     "text": [
      "Train on 12 samples, validate on 131 samples\n",
      "Epoch 1/50\n",
      " - 2s - loss: 0.7806 - val_loss: 0.8246\n",
      "Epoch 2/50\n",
      " - 0s - loss: 0.7637 - val_loss: 0.8127\n",
      "Epoch 3/50\n",
      " - 0s - loss: 0.7467 - val_loss: 0.8008\n",
      "Epoch 4/50\n",
      " - 0s - loss: 0.7296 - val_loss: 0.7897\n",
      "Epoch 5/50\n",
      " - 0s - loss: 0.7136 - val_loss: 0.7779\n",
      "Epoch 6/50\n",
      " - 0s - loss: 0.6964 - val_loss: 0.7661\n",
      "Epoch 7/50\n",
      " - 0s - loss: 0.6792 - val_loss: 0.7544\n",
      "Epoch 8/50\n",
      " - 0s - loss: 0.6620 - val_loss: 0.7428\n",
      "Epoch 9/50\n",
      " - 0s - loss: 0.6448 - val_loss: 0.7309\n",
      "Epoch 10/50\n",
      " - 0s - loss: 0.6274 - val_loss: 0.7191\n",
      "Epoch 11/50\n",
      " - 0s - loss: 0.6099 - val_loss: 0.7071\n",
      "Epoch 12/50\n",
      " - 0s - loss: 0.5922 - val_loss: 0.6950\n",
      "Epoch 13/50\n",
      " - 0s - loss: 0.5743 - val_loss: 0.6828\n",
      "Epoch 14/50\n",
      " - 0s - loss: 0.5564 - val_loss: 0.6705\n",
      "Epoch 15/50\n",
      " - 0s - loss: 0.5382 - val_loss: 0.6580\n",
      "Epoch 16/50\n",
      " - 0s - loss: 0.5199 - val_loss: 0.6454\n",
      "Epoch 17/50\n",
      " - 0s - loss: 0.5014 - val_loss: 0.6327\n",
      "Epoch 18/50\n",
      " - 0s - loss: 0.4826 - val_loss: 0.6196\n",
      "Epoch 19/50\n",
      " - 0s - loss: 0.4635 - val_loss: 0.6065\n",
      "Epoch 20/50\n",
      " - 0s - loss: 0.4443 - val_loss: 0.5932\n",
      "Epoch 21/50\n",
      " - 0s - loss: 0.4248 - val_loss: 0.5796\n",
      "Epoch 22/50\n",
      " - 0s - loss: 0.4051 - val_loss: 0.5657\n",
      "Epoch 23/50\n",
      " - 0s - loss: 0.3848 - val_loss: 0.5518\n",
      "Epoch 24/50\n",
      " - 0s - loss: 0.3645 - val_loss: 0.5374\n",
      "Epoch 25/50\n",
      " - 0s - loss: 0.3436 - val_loss: 0.5229\n",
      "Epoch 26/50\n",
      " - 0s - loss: 0.3226 - val_loss: 0.5081\n",
      "Epoch 27/50\n",
      " - 0s - loss: 0.3013 - val_loss: 0.4931\n",
      "Epoch 28/50\n",
      " - 0s - loss: 0.2796 - val_loss: 0.4776\n",
      "Epoch 29/50\n",
      " - 0s - loss: 0.2573 - val_loss: 0.4619\n",
      "Epoch 30/50\n",
      " - 0s - loss: 0.2346 - val_loss: 0.4458\n",
      "Epoch 31/50\n",
      " - 0s - loss: 0.2115 - val_loss: 0.4296\n",
      "Epoch 32/50\n",
      " - 0s - loss: 0.1883 - val_loss: 0.4131\n",
      "Epoch 33/50\n",
      " - 0s - loss: 0.1664 - val_loss: 0.3966\n",
      "Epoch 34/50\n",
      " - 0s - loss: 0.1516 - val_loss: 0.3807\n",
      "Epoch 35/50\n",
      " - 0s - loss: 0.1429 - val_loss: 0.3654\n",
      "Epoch 36/50\n",
      " - 0s - loss: 0.1344 - val_loss: 0.3507\n",
      "Epoch 37/50\n",
      " - 0s - loss: 0.1291 - val_loss: 0.3373\n",
      "Epoch 38/50\n",
      " - 0s - loss: 0.1332 - val_loss: 0.3256\n",
      "Epoch 39/50\n",
      " - 0s - loss: 0.1402 - val_loss: 0.3162\n",
      "Epoch 40/50\n",
      " - 0s - loss: 0.1478 - val_loss: 0.3093\n",
      "Epoch 41/50\n",
      " - 0s - loss: 0.1541 - val_loss: 0.3047\n",
      "Epoch 42/50\n",
      " - 0s - loss: 0.1583 - val_loss: 0.3022\n",
      "Epoch 43/50\n",
      " - 0s - loss: 0.1606 - val_loss: 0.3016\n",
      "Epoch 44/50\n",
      " - 0s - loss: 0.1610 - val_loss: 0.3027\n",
      "Epoch 45/50\n",
      " - 0s - loss: 0.1599 - val_loss: 0.3053\n",
      "Epoch 46/50\n",
      " - 0s - loss: 0.1574 - val_loss: 0.3091\n",
      "Epoch 47/50\n",
      " - 0s - loss: 0.1537 - val_loss: 0.3142\n",
      "Epoch 48/50\n",
      " - 0s - loss: 0.1489 - val_loss: 0.3203\n",
      "Epoch 49/50\n",
      " - 0s - loss: 0.1431 - val_loss: 0.3273\n",
      "Epoch 50/50\n",
      " - 0s - loss: 0.1365 - val_loss: 0.3350\n"
     ]
    },
    {
     "data": {
      "image/png": "[encoded data removed]",
      "text/plain": [
       "<Figure size 432x288 with 1 Axes>"
      ]
     },
     "metadata": {
      "needs_background": "light"
     },
     "output_type": "display_data"
    }
   ],
   "source": [
    "import tensorflow as tf\n",
    "import matplotlib.pyplot as plt\n",
    "from tensorflow import keras\n",
    "from keras.layers.core import Dense, Dropout\n",
    "from keras.layers.recurrent import LSTM\n",
    "from keras.models import Sequential\n",
    "\n",
    "# design network\n",
    "model = Sequential()\n",
    "model.add(LSTM(50, input_shape=(train_X.shape[1], train_X.shape[2])))\n",
    "model.add(Dense(1))\n",
    "model.compile(loss='mae', optimizer='adam')\n",
    "# fit network\n",
    "history = model.fit(train_X, train_y, epochs=50, batch_size=72, validation_data=(test_X, test_y), verbose=2, shuffle=False)\n",
    "# plot history\n",
    "pyplot.plot(history.history['loss'], label='train')\n",
    "pyplot.plot(history.history['val_loss'], label='test')\n",
    "pyplot.legend()\n",
    "pyplot.show()"
   ]
  },
  {
   "cell_type": "code",
   "execution_count": 622,
   "metadata": {},
   "outputs": [
    {
     "name": "stdout",
     "output_type": "stream",
     "text": [
      "Test RMSE: 0.354\n"
     ]
    }
   ],
   "source": [
    "# make a prediction\n",
    "yhat = model.predict(test_X)\n",
    "test_X = test_X.reshape((test_X.shape[0], test_X.shape[2]))\n",
    "# invert scaling for forecast\n",
    "inv_yhat = concatenate((yhat, test_X[:, 1:]), axis=1)\n",
    "#inv_yhat = scaler.inverse_transform(inv_yhat)\n",
    "inv_yhat = inv_yhat[:,0]\n",
    "# invert scaling for actual\n",
    "test_y = test_y.reshape((len(test_y), 1))\n",
    "inv_y = concatenate((test_y, test_X[:, 1:]), axis=1)\n",
    "#inv_y = scaler.inverse_transform(inv_y)\n",
    "inv_y = inv_y[:,0]\n",
    "# calculate RMSE\n",
    "rmse = sqrt(mean_squared_error(inv_y, inv_yhat))\n",
    "print('Test RMSE: %.3f' % rmse)"
   ]
  },
  {
   "cell_type": "code",
   "execution_count": 623,
   "metadata": {},
   "outputs": [
    {
     "data": {
      "text/plain": [
       "(131, 1)"
      ]
     },
     "execution_count": 623,
     "metadata": {},
     "output_type": "execute_result"
    }
   ],
   "source": [
    "test_y.shape"
   ]
  },
  {
   "cell_type": "code",
   "execution_count": 624,
   "metadata": {},
   "outputs": [
    {
     "data": {
      "text/plain": [
       "(131, 17)"
      ]
     },
     "execution_count": 624,
     "metadata": {},
     "output_type": "execute_result"
    }
   ],
   "source": [
    "test_X.shape"
   ]
  },
  {
   "cell_type": "code",
   "execution_count": 625,
   "metadata": {},
   "outputs": [
    {
     "data": {
      "text/plain": [
       "(12, 1, 17)"
      ]
     },
     "execution_count": 625,
     "metadata": {},
     "output_type": "execute_result"
    }
   ],
   "source": [
    "train_X.shape"
   ]
  },
  {
   "cell_type": "code",
   "execution_count": 626,
   "metadata": {},
   "outputs": [
    {
     "data": {
      "text/plain": [
       "(12, 1, 17)"
      ]
     },
     "execution_count": 626,
     "metadata": {},
     "output_type": "execute_result"
    }
   ],
   "source": [
    "train_X.shape"
   ]
  },
  {
   "cell_type": "code",
   "execution_count": 627,
   "metadata": {},
   "outputs": [
    {
     "data": {
      "text/plain": [
       "(12,)"
      ]
     },
     "execution_count": 627,
     "metadata": {},
     "output_type": "execute_result"
    }
   ],
   "source": [
    "train_y.shape"
   ]
  },
  {
   "cell_type": "code",
   "execution_count": 628,
   "metadata": {},
   "outputs": [
    {
     "data": {
      "text/plain": [
       "(131,)"
      ]
     },
     "execution_count": 628,
     "metadata": {},
     "output_type": "execute_result"
    }
   ],
   "source": [
    "inv_yhat.shape"
   ]
  },
  {
   "cell_type": "code",
   "execution_count": null,
   "metadata": {},
   "outputs": [],
   "source": []
  }
 ],
 "metadata": {
  "kernelspec": {
   "display_name": "Python 3",
   "language": "python",
   "name": "python3"
  },
  "language_info": {
   "codemirror_mode": {
    "name": "ipython",
    "version": 3
   },
   "file_extension": ".py",
   "mimetype": "text/x-python",
   "name": "python",
   "nbconvert_exporter": "python",
   "pygments_lexer": "ipython3",
   "version": "3.7.6"
  }
 },
 "nbformat": 4,
 "nbformat_minor": 4
}
