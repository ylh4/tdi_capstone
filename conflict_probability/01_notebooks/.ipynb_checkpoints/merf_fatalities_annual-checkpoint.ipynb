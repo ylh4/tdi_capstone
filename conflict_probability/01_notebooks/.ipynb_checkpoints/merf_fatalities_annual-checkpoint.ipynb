{
 "cells": [
  {
   "cell_type": "markdown",
   "metadata": {},
   "source": [
    "# Communal Conflict model in Ethiopia\n",
    "## Ethiopia, admin2, monthly data\n",
    "### 1. Random Forest Classifier "
   ]
  },
  {
   "cell_type": "code",
   "execution_count": 1,
   "metadata": {},
   "outputs": [],
   "source": [
    "from sklearn.ensemble import RandomForestClassifier\n",
    "from sklearn.metrics import confusion_matrix\n",
    "import xgboost\n",
    "from sklearn.model_selection import train_test_split, GridSearchCV\n",
    "import seaborn as sns\n",
    "\n",
    "import numpy as np\n",
    "import pandas as pd\n",
    "import os\n",
    "import matplotlib.pyplot as plt"
   ]
  },
  {
   "cell_type": "code",
   "execution_count": 2,
   "metadata": {},
   "outputs": [],
   "source": [
    "#os.chdir('/home/ubuntu/darpa/models/conflict_probability')"
   ]
  },
  {
   "cell_type": "code",
   "execution_count": 3,
   "metadata": {},
   "outputs": [
    {
     "data": {
      "text/plain": [
       "['Unnamed: 0',\n",
       " 'date',\n",
       " 'group',\n",
       " 'fatalities_x',\n",
       " 'actor_state',\n",
       " 'actor_rebel_groups',\n",
       " 'actor_political_militias',\n",
       " 'actor_identity_militias',\n",
       " 'actor_civilians',\n",
       " 'actor_others',\n",
       " 'inflation_all',\n",
       " 'rainfall',\n",
       " 'temperature mean',\n",
       " 'btotl',\n",
       " 'maize_ETB_KG',\n",
       " 'teff_ETB_KG',\n",
       " 'wheat_ETB_KG',\n",
       " 'mean ndvi',\n",
       " 'fs_Crisis',\n",
       " 'fs_Emergency',\n",
       " 'fs_Famine',\n",
       " 'fs_Minimal',\n",
       " 'fs_Stressed',\n",
       " 'cc_onset',\n",
       " 'fatalities_y']"
      ]
     },
     "execution_count": 3,
     "metadata": {},
     "output_type": "execute_result"
    }
   ],
   "source": [
    "#url = 'https://data.kimetrica.com/dataset/4dbc3cc7-9474-49f2-bfd4-231e78401caa/resource/7423b71d-ce8c-437c-9fe6-2d9ba58d6155/download/dataset_communal_cnflict_model.csv'\n",
    "df = pd.read_csv('/Users/yaredhurisa/Google Drive/Probability of conflict/indicators/eth_cc_final_dataest.csv')\n",
    "list(df.columns)"
   ]
  },
  {
   "cell_type": "code",
   "execution_count": 4,
   "metadata": {},
   "outputs": [],
   "source": [
    "#Training and test \n",
    "start_date = \"2009-12-1\"\n",
    "end_date = \"2018-1-1\"\n",
    "mask = (df['date'] > start_date) & (df['date'] < end_date)\n",
    "train = df.loc[mask]\n",
    "\n",
    "start_date = \"2018-1-1\"\n",
    "end_date = \"2019-1-1\"\n",
    "mask = (df['date'] > start_date) & (df['date'] < end_date)\n",
    "test = df.loc[mask]"
   ]
  },
  {
   "cell_type": "code",
   "execution_count": 5,
   "metadata": {},
   "outputs": [
    {
     "data": {
      "text/plain": [
       "['Unnamed: 0',\n",
       " 'date',\n",
       " 'group',\n",
       " 'fatalities_x',\n",
       " 'actor_state',\n",
       " 'actor_rebel_groups',\n",
       " 'actor_political_militias',\n",
       " 'actor_identity_militias',\n",
       " 'actor_civilians',\n",
       " 'actor_others',\n",
       " 'inflation_all',\n",
       " 'rainfall',\n",
       " 'temperature mean',\n",
       " 'btotl',\n",
       " 'maize_ETB_KG',\n",
       " 'teff_ETB_KG',\n",
       " 'wheat_ETB_KG',\n",
       " 'mean ndvi',\n",
       " 'fs_Crisis',\n",
       " 'fs_Emergency',\n",
       " 'fs_Famine',\n",
       " 'fs_Minimal',\n",
       " 'fs_Stressed',\n",
       " 'cc_onset',\n",
       " 'fatalities_y']"
      ]
     },
     "execution_count": 5,
     "metadata": {},
     "output_type": "execute_result"
    }
   ],
   "source": [
    "list(train.columns)"
   ]
  },
  {
   "cell_type": "code",
   "execution_count": 6,
   "metadata": {},
   "outputs": [],
   "source": [
    "X= df[[\n",
    "    'actor_state',\n",
    " 'actor_rebel_groups',\n",
    " 'actor_political_militias',\n",
    " 'actor_civilians',\n",
    " 'actor_others',\n",
    " 'rainfall',\n",
    "    'temperature mean',\n",
    "    'btotl',\n",
    "    'inflation_all',\n",
    "     'maize_ETB_KG',\n",
    " 'teff_ETB_KG',\n",
    " 'wheat_ETB_KG',\n",
    "    'fatalities_x',\n",
    "    'fs_Crisis',\n",
    " 'fs_Emergency',\n",
    " 'fs_Famine',\n",
    " 'fs_Minimal',\n",
    " 'fs_Stressed',\n",
    "  ]]"
   ]
  },
  {
   "cell_type": "code",
   "execution_count": 7,
   "metadata": {},
   "outputs": [],
   "source": [
    "y = df['cc_onset']"
   ]
  },
  {
   "cell_type": "code",
   "execution_count": 8,
   "metadata": {},
   "outputs": [],
   "source": [
    "X_train = train[[\n",
    "    'actor_state',\n",
    " 'actor_rebel_groups',\n",
    " 'actor_political_militias',\n",
    " 'actor_civilians',\n",
    " 'actor_others',\n",
    " 'rainfall',\n",
    "    'temperature mean',\n",
    "    'btotl',\n",
    "    'inflation_all',\n",
    "     'maize_ETB_KG',\n",
    " 'teff_ETB_KG',\n",
    " 'wheat_ETB_KG',\n",
    "    'fatalities_x',\n",
    "    'fs_Crisis',\n",
    " 'fs_Emergency',\n",
    " 'fs_Famine',\n",
    " 'fs_Minimal',\n",
    " 'fs_Stressed',\n",
    "  ]]"
   ]
  },
  {
   "cell_type": "code",
   "execution_count": 9,
   "metadata": {},
   "outputs": [],
   "source": [
    "y_train = train['cc_onset']"
   ]
  },
  {
   "cell_type": "code",
   "execution_count": 10,
   "metadata": {},
   "outputs": [],
   "source": [
    "X_test = test[[\n",
    "    'actor_state',\n",
    " 'actor_rebel_groups',\n",
    " 'actor_political_militias',\n",
    " 'actor_civilians',\n",
    " 'actor_others',\n",
    " 'rainfall',\n",
    "    'temperature mean',\n",
    "    'btotl',\n",
    "    'inflation_all',\n",
    "     'maize_ETB_KG',\n",
    " 'teff_ETB_KG',\n",
    " 'wheat_ETB_KG',\n",
    "    'fatalities_x',\n",
    "    'fs_Crisis',\n",
    " 'fs_Emergency',\n",
    " 'fs_Famine',\n",
    " 'fs_Minimal',\n",
    " 'fs_Stressed',]]"
   ]
  },
  {
   "cell_type": "code",
   "execution_count": 11,
   "metadata": {},
   "outputs": [],
   "source": [
    "y_test = test['cc_onset']"
   ]
  },
  {
   "cell_type": "markdown",
   "metadata": {},
   "source": [
    "# Visualize the data distribution"
   ]
  },
  {
   "cell_type": "code",
   "execution_count": 12,
   "metadata": {},
   "outputs": [
    {
     "data": {
      "image/png": "[encoded data removed]",
      "text/plain": [
       "<Figure size 432x288 with 1 Axes>"
      ]
     },
     "metadata": {
      "needs_background": "light"
     },
     "output_type": "display_data"
    }
   ],
   "source": [
    "break_down = y_test.value_counts(normalize=True)\n",
    "break_down.plot(kind='bar')\n",
    "plt.show()\n",
    "#ax = train['conflict_onset'].plot.bar(rot=0)"
   ]
  },
  {
   "cell_type": "markdown",
   "metadata": {},
   "source": [
    "# Train RF with gridsearch"
   ]
  },
  {
   "cell_type": "code",
   "execution_count": 13,
   "metadata": {},
   "outputs": [],
   "source": [
    "rf_model =RandomForestClassifier(class_weight='balanced')\n",
    "\n",
    "params={\n",
    "      'bootstrap': [True],\n",
    " 'max_depth': [8,10,12],\n",
    "  'min_samples_split':[2,6,8],\n",
    "  'min_samples_leaf': [2,4,6],\n",
    "   }"
   ]
  },
  {
   "cell_type": "code",
   "execution_count": null,
   "metadata": {},
   "outputs": [],
   "source": [
    "rf_grid = GridSearchCV(rf_model, params, cv=5)\n",
    "rf_grid.fit(X_train, y_train)\n",
    "print(rf_grid.best_params_)"
   ]
  },
  {
   "cell_type": "code",
   "execution_count": null,
   "metadata": {},
   "outputs": [],
   "source": [
    "rf_prediction=rf_grid.predict(X_test)"
   ]
  },
  {
   "cell_type": "code",
   "execution_count": null,
   "metadata": {},
   "outputs": [],
   "source": [
    "confusion_matrix(y_test, rf_prediction)"
   ]
  },
  {
   "cell_type": "code",
   "execution_count": null,
   "metadata": {},
   "outputs": [],
   "source": [
    "from sklearn.metrics import classification_report\n",
    "print(classification_report(y_test, rf_prediction))"
   ]
  },
  {
   "cell_type": "code",
   "execution_count": null,
   "metadata": {},
   "outputs": [],
   "source": []
  },
  {
   "cell_type": "code",
   "execution_count": null,
   "metadata": {},
   "outputs": [],
   "source": []
  }
 ],
 "metadata": {
  "kernelspec": {
   "display_name": "Python 3",
   "language": "python",
   "name": "python3"
  },
  "language_info": {
   "codemirror_mode": {
    "name": "ipython",
    "version": 3
   },
   "file_extension": ".py",
   "mimetype": "text/x-python",
   "name": "python",
   "nbconvert_exporter": "python",
   "pygments_lexer": "ipython3",
   "version": "3.7.6"
  }
 },
 "nbformat": 4,
 "nbformat_minor": 4
}
