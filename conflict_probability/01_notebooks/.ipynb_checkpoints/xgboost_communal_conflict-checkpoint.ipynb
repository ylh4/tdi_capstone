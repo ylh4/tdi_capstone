{
 "cells": [
  {
   "cell_type": "markdown",
   "metadata": {},
   "source": [
    "# Communal Conflict model in Ethiopia \n",
    "## Ethiopia, admin2, monthly data\n",
    "### 3. XGBoost Classifier "
   ]
  },
  {
   "cell_type": "code",
   "execution_count": 1,
   "metadata": {},
   "outputs": [],
   "source": [
    "import xgboost as xgb\n",
    "from sklearn.metrics import r2_score, mean_squared_error\n",
    "from sklearn.metrics import confusion_matrix\n",
    "from sklearn.model_selection import KFold\n",
    "import numpy as np\n",
    "import pandas as pd\n"
   ]
  },
  {
   "cell_type": "code",
   "execution_count": 2,
   "metadata": {},
   "outputs": [],
   "source": [
    "#os.chdir('/home/ubuntu/darpa/models/conflict_probability')"
   ]
  },
  {
   "cell_type": "code",
   "execution_count": 3,
   "metadata": {
    "jupyter": {
     "source_hidden": true
    }
   },
   "outputs": [
    {
     "data": {
      "text/plain": [
       "['admin1',\n",
       " 'admin2',\n",
       " 'year',\n",
       " 'month',\n",
       " 'fatalities',\n",
       " 'cc_event_count',\n",
       " 'actor_state',\n",
       " 'actor_rebel_groups',\n",
       " 'actor_political_militias',\n",
       " 'actor_identity_militias',\n",
       " 'actor_civilians',\n",
       " 'actor_others',\n",
       " 'cc_onset',\n",
       " 'admin0',\n",
       " 'inflation_all',\n",
       " 'inflation_food',\n",
       " 'inflation_non_food',\n",
       " 'rainfall',\n",
       " 'rainfall_lag',\n",
       " 'temperature mean',\n",
       " 'btotl',\n",
       " 'maize_ETB_KG',\n",
       " 'teff_ETB_KG',\n",
       " 'wheat_ETB_KG',\n",
       " 'mean ndvi',\n",
       " 'ndvi_lag',\n",
       " 'cluster']"
      ]
     },
     "execution_count": 3,
     "metadata": {},
     "output_type": "execute_result"
    }
   ],
   "source": [
    "url = 'https://data.kimetrica.com/dataset/4dbc3cc7-9474-49f2-bfd4-231e78401caa/resource/7423b71d-ce8c-437c-9fe6-2d9ba58d6155/download/dataset_communal_cnflict_model.csv'\n",
    "df = pd.read_csv(url, index_col=0)\n",
    "list(df.columns)"
   ]
  },
  {
   "cell_type": "code",
   "execution_count": 4,
   "metadata": {},
   "outputs": [
    {
     "data": {
      "text/html": [
       "<div>\n",
       "<style scoped>\n",
       "    .dataframe tbody tr th:only-of-type {\n",
       "        vertical-align: middle;\n",
       "    }\n",
       "\n",
       "    .dataframe tbody tr th {\n",
       "        vertical-align: top;\n",
       "    }\n",
       "\n",
       "    .dataframe thead th {\n",
       "        text-align: right;\n",
       "    }\n",
       "</style>\n",
       "<table border=\"1\" class=\"dataframe\">\n",
       "  <thead>\n",
       "    <tr style=\"text-align: right;\">\n",
       "      <th></th>\n",
       "      <th>admin1</th>\n",
       "      <th>admin2</th>\n",
       "      <th>year</th>\n",
       "      <th>month</th>\n",
       "      <th>fatalities</th>\n",
       "      <th>cc_event_count</th>\n",
       "      <th>actor_state</th>\n",
       "      <th>actor_rebel_groups</th>\n",
       "      <th>actor_political_militias</th>\n",
       "      <th>actor_identity_militias</th>\n",
       "      <th>...</th>\n",
       "      <th>rainfall</th>\n",
       "      <th>rainfall_lag</th>\n",
       "      <th>temperature mean</th>\n",
       "      <th>btotl</th>\n",
       "      <th>maize_ETB_KG</th>\n",
       "      <th>teff_ETB_KG</th>\n",
       "      <th>wheat_ETB_KG</th>\n",
       "      <th>mean ndvi</th>\n",
       "      <th>ndvi_lag</th>\n",
       "      <th>cluster</th>\n",
       "    </tr>\n",
       "  </thead>\n",
       "  <tbody>\n",
       "    <tr>\n",
       "      <th>15890</th>\n",
       "      <td>Tigray</td>\n",
       "      <td>Western Tigray</td>\n",
       "      <td>2020</td>\n",
       "      <td>8</td>\n",
       "      <td>0.0</td>\n",
       "      <td>0.0</td>\n",
       "      <td>0.0</td>\n",
       "      <td>0.0</td>\n",
       "      <td>0.0</td>\n",
       "      <td>0.0</td>\n",
       "      <td>...</td>\n",
       "      <td>0.0</td>\n",
       "      <td>0.0</td>\n",
       "      <td>0.0</td>\n",
       "      <td>1722534.0</td>\n",
       "      <td>0.0</td>\n",
       "      <td>0.0</td>\n",
       "      <td>0.0</td>\n",
       "      <td>0.0</td>\n",
       "      <td>0.0</td>\n",
       "      <td>Tigray_Western Tigray</td>\n",
       "    </tr>\n",
       "    <tr>\n",
       "      <th>15891</th>\n",
       "      <td>Tigray</td>\n",
       "      <td>Western Tigray</td>\n",
       "      <td>2020</td>\n",
       "      <td>9</td>\n",
       "      <td>0.0</td>\n",
       "      <td>0.0</td>\n",
       "      <td>0.0</td>\n",
       "      <td>0.0</td>\n",
       "      <td>0.0</td>\n",
       "      <td>0.0</td>\n",
       "      <td>...</td>\n",
       "      <td>0.0</td>\n",
       "      <td>0.0</td>\n",
       "      <td>0.0</td>\n",
       "      <td>1722534.0</td>\n",
       "      <td>0.0</td>\n",
       "      <td>0.0</td>\n",
       "      <td>0.0</td>\n",
       "      <td>0.0</td>\n",
       "      <td>0.0</td>\n",
       "      <td>Tigray_Western Tigray</td>\n",
       "    </tr>\n",
       "    <tr>\n",
       "      <th>15892</th>\n",
       "      <td>Tigray</td>\n",
       "      <td>Western Tigray</td>\n",
       "      <td>2020</td>\n",
       "      <td>10</td>\n",
       "      <td>0.0</td>\n",
       "      <td>0.0</td>\n",
       "      <td>0.0</td>\n",
       "      <td>0.0</td>\n",
       "      <td>0.0</td>\n",
       "      <td>0.0</td>\n",
       "      <td>...</td>\n",
       "      <td>0.0</td>\n",
       "      <td>0.0</td>\n",
       "      <td>0.0</td>\n",
       "      <td>1722534.0</td>\n",
       "      <td>0.0</td>\n",
       "      <td>0.0</td>\n",
       "      <td>0.0</td>\n",
       "      <td>0.0</td>\n",
       "      <td>0.0</td>\n",
       "      <td>Tigray_Western Tigray</td>\n",
       "    </tr>\n",
       "    <tr>\n",
       "      <th>15893</th>\n",
       "      <td>Tigray</td>\n",
       "      <td>Western Tigray</td>\n",
       "      <td>2020</td>\n",
       "      <td>11</td>\n",
       "      <td>0.0</td>\n",
       "      <td>0.0</td>\n",
       "      <td>0.0</td>\n",
       "      <td>0.0</td>\n",
       "      <td>0.0</td>\n",
       "      <td>0.0</td>\n",
       "      <td>...</td>\n",
       "      <td>0.0</td>\n",
       "      <td>0.0</td>\n",
       "      <td>0.0</td>\n",
       "      <td>1722534.0</td>\n",
       "      <td>0.0</td>\n",
       "      <td>0.0</td>\n",
       "      <td>0.0</td>\n",
       "      <td>0.0</td>\n",
       "      <td>0.0</td>\n",
       "      <td>Tigray_Western Tigray</td>\n",
       "    </tr>\n",
       "    <tr>\n",
       "      <th>15894</th>\n",
       "      <td>Tigray</td>\n",
       "      <td>Western Tigray</td>\n",
       "      <td>2020</td>\n",
       "      <td>12</td>\n",
       "      <td>0.0</td>\n",
       "      <td>0.0</td>\n",
       "      <td>0.0</td>\n",
       "      <td>0.0</td>\n",
       "      <td>0.0</td>\n",
       "      <td>0.0</td>\n",
       "      <td>...</td>\n",
       "      <td>0.0</td>\n",
       "      <td>0.0</td>\n",
       "      <td>0.0</td>\n",
       "      <td>1722534.0</td>\n",
       "      <td>0.0</td>\n",
       "      <td>0.0</td>\n",
       "      <td>0.0</td>\n",
       "      <td>0.0</td>\n",
       "      <td>0.0</td>\n",
       "      <td>Tigray_Western Tigray</td>\n",
       "    </tr>\n",
       "  </tbody>\n",
       "</table>\n",
       "<p>5 rows × 27 columns</p>\n",
       "</div>"
      ],
      "text/plain": [
       "       admin1          admin2  year  month  fatalities  cc_event_count  \\\n",
       "15890  Tigray  Western Tigray  2020      8         0.0             0.0   \n",
       "15891  Tigray  Western Tigray  2020      9         0.0             0.0   \n",
       "15892  Tigray  Western Tigray  2020     10         0.0             0.0   \n",
       "15893  Tigray  Western Tigray  2020     11         0.0             0.0   \n",
       "15894  Tigray  Western Tigray  2020     12         0.0             0.0   \n",
       "\n",
       "       actor_state  actor_rebel_groups  actor_political_militias  \\\n",
       "15890          0.0                 0.0                       0.0   \n",
       "15891          0.0                 0.0                       0.0   \n",
       "15892          0.0                 0.0                       0.0   \n",
       "15893          0.0                 0.0                       0.0   \n",
       "15894          0.0                 0.0                       0.0   \n",
       "\n",
       "       actor_identity_militias          ...            rainfall  rainfall_lag  \\\n",
       "15890                      0.0          ...                 0.0           0.0   \n",
       "15891                      0.0          ...                 0.0           0.0   \n",
       "15892                      0.0          ...                 0.0           0.0   \n",
       "15893                      0.0          ...                 0.0           0.0   \n",
       "15894                      0.0          ...                 0.0           0.0   \n",
       "\n",
       "       temperature mean      btotl  maize_ETB_KG  teff_ETB_KG  wheat_ETB_KG  \\\n",
       "15890               0.0  1722534.0           0.0          0.0           0.0   \n",
       "15891               0.0  1722534.0           0.0          0.0           0.0   \n",
       "15892               0.0  1722534.0           0.0          0.0           0.0   \n",
       "15893               0.0  1722534.0           0.0          0.0           0.0   \n",
       "15894               0.0  1722534.0           0.0          0.0           0.0   \n",
       "\n",
       "       mean ndvi  ndvi_lag                cluster  \n",
       "15890        0.0       0.0  Tigray_Western Tigray  \n",
       "15891        0.0       0.0  Tigray_Western Tigray  \n",
       "15892        0.0       0.0  Tigray_Western Tigray  \n",
       "15893        0.0       0.0  Tigray_Western Tigray  \n",
       "15894        0.0       0.0  Tigray_Western Tigray  \n",
       "\n",
       "[5 rows x 27 columns]"
      ]
     },
     "execution_count": 4,
     "metadata": {},
     "output_type": "execute_result"
    }
   ],
   "source": [
    "df.tail()"
   ]
  },
  {
   "cell_type": "code",
   "execution_count": 5,
   "metadata": {},
   "outputs": [
    {
     "data": {
      "text/plain": [
       "(7975, 27)"
      ]
     },
     "execution_count": 5,
     "metadata": {},
     "output_type": "execute_result"
    }
   ],
   "source": [
    "df['year']=df.year.astype(int)\n",
    "df=df.loc[df['year']>2006]\n",
    "df=df.loc[df['year']<2019]\n",
    "df.shape"
   ]
  },
  {
   "cell_type": "code",
   "execution_count": 6,
   "metadata": {},
   "outputs": [],
   "source": [
    "#Training and test \n",
    "train=df.loc[df['year']<2014]\n",
    "test=df.loc[df['year']>2013]\n"
   ]
  },
  {
   "cell_type": "code",
   "execution_count": 7,
   "metadata": {},
   "outputs": [
    {
     "data": {
      "text/plain": [
       "['admin1',\n",
       " 'admin2',\n",
       " 'year',\n",
       " 'month',\n",
       " 'fatalities',\n",
       " 'cc_event_count',\n",
       " 'actor_state',\n",
       " 'actor_rebel_groups',\n",
       " 'actor_political_militias',\n",
       " 'actor_identity_militias',\n",
       " 'actor_civilians',\n",
       " 'actor_others',\n",
       " 'cc_onset',\n",
       " 'admin0',\n",
       " 'inflation_all',\n",
       " 'inflation_food',\n",
       " 'inflation_non_food',\n",
       " 'rainfall',\n",
       " 'rainfall_lag',\n",
       " 'temperature mean',\n",
       " 'btotl',\n",
       " 'maize_ETB_KG',\n",
       " 'teff_ETB_KG',\n",
       " 'wheat_ETB_KG',\n",
       " 'mean ndvi',\n",
       " 'ndvi_lag',\n",
       " 'cluster']"
      ]
     },
     "execution_count": 7,
     "metadata": {},
     "output_type": "execute_result"
    }
   ],
   "source": [
    "list(train.columns)"
   ]
  },
  {
   "cell_type": "code",
   "execution_count": 8,
   "metadata": {},
   "outputs": [],
   "source": [
    "X_train = train[[\n",
    "    'actor_state',\n",
    " 'actor_rebel_groups',\n",
    " 'actor_political_militias',\n",
    " 'actor_civilians',\n",
    " 'actor_others',\n",
    " 'rainfall_lag',\n",
    "    'temperature mean',\n",
    "    'btotl',\n",
    "    'inflation_all',\n",
    "     'maize_ETB_KG',\n",
    " 'teff_ETB_KG',\n",
    " 'wheat_ETB_KG',\n",
    " 'ndvi_lag'\n",
    "  ]]"
   ]
  },
  {
   "cell_type": "code",
   "execution_count": 9,
   "metadata": {},
   "outputs": [],
   "source": [
    "y_train = train['cc_onset']"
   ]
  },
  {
   "cell_type": "code",
   "execution_count": 10,
   "metadata": {},
   "outputs": [],
   "source": [
    "X_test = test[[\n",
    "    'actor_state',\n",
    " 'actor_rebel_groups',\n",
    " 'actor_political_militias',\n",
    " 'actor_civilians',\n",
    " 'actor_others',\n",
    " 'rainfall_lag',\n",
    "    'temperature mean',\n",
    "    'btotl',\n",
    "    'inflation_all',\n",
    "     'maize_ETB_KG',\n",
    " 'teff_ETB_KG',\n",
    " 'wheat_ETB_KG',\n",
    " 'ndvi_lag'\n",
    "]]"
   ]
  },
  {
   "cell_type": "code",
   "execution_count": 11,
   "metadata": {},
   "outputs": [],
   "source": [
    "y_test = test['cc_onset']"
   ]
  },
  {
   "cell_type": "code",
   "execution_count": 12,
   "metadata": {},
   "outputs": [],
   "source": [
    "model1 = xgb.XGBClassifier()\n",
    "model2 = xgb.XGBClassifier(n_estimators=100, max_depth=8, learning_rate=0.1, subsample=0.5)\n",
    "\n",
    "train_model1 = model1.fit(X_train, y_train)\n"
   ]
  },
  {
   "cell_type": "code",
   "execution_count": 13,
   "metadata": {},
   "outputs": [],
   "source": [
    "#prediction and Classification Report\n",
    "from sklearn.metrics import classification_report\n",
    "\n",
    "pred1 = train_model1.predict(X_test)"
   ]
  },
  {
   "cell_type": "code",
   "execution_count": 14,
   "metadata": {},
   "outputs": [
    {
     "name": "stdout",
     "output_type": "stream",
     "text": [
      "              precision    recall  f1-score   support\n",
      "\n",
      "         0.0       0.97      1.00      0.99      3138\n",
      "         1.0       1.00      0.43      0.60       162\n",
      "\n",
      "    accuracy                           0.97      3300\n",
      "   macro avg       0.99      0.71      0.79      3300\n",
      "weighted avg       0.97      0.97      0.97      3300\n",
      "\n"
     ]
    }
   ],
   "source": [
    "from sklearn.metrics import classification_report\n",
    "print(classification_report(y_test, pred1))"
   ]
  },
  {
   "cell_type": "markdown",
   "metadata": {},
   "source": [
    "# hyperparameter tuning of XGboost"
   ]
  },
  {
   "cell_type": "code",
   "execution_count": 17,
   "metadata": {},
   "outputs": [],
   "source": [
    "#Let's do a little Gridsearch, Hyperparameter Tunning\n",
    "model3 = xgb.XGBClassifier(\n",
    " learning_rate =0.1,\n",
    " n_estimators=1000,\n",
    " max_depth=5,\n",
    " min_child_weight=1,\n",
    " gamma=0,\n",
    " subsample=0.8,\n",
    " colsample_bytree=0.8,\n",
    " objective= 'binary:logistic',\n",
    " nthread=4,\n",
    " scale_pos_weight=1,\n",
    " seed=27)"
   ]
  },
  {
   "cell_type": "code",
   "execution_count": 18,
   "metadata": {},
   "outputs": [
    {
     "name": "stdout",
     "output_type": "stream",
     "text": [
      "Accuracy for model 3: 96.09\n"
     ]
    }
   ],
   "source": [
    "train_model3 = model3.fit(X_train, y_train)\n",
    "pred3 = train_model3.predict(X_test)\n",
    "print(\"Accuracy for model 3: %.2f\" % (accuracy_score(y_test, pred3) * 100))\n"
   ]
  },
  {
   "cell_type": "code",
   "execution_count": 19,
   "metadata": {},
   "outputs": [
    {
     "name": "stderr",
     "output_type": "stream",
     "text": [
      "/Users/yaredhurisa/anaconda3/lib/python3.7/site-packages/sklearn/model_selection/_search.py:823: FutureWarning: The parameter 'iid' is deprecated in 0.22 and will be removed in 0.24.\n",
      "  \"removed in 0.24.\", FutureWarning\n"
     ]
    },
    {
     "name": "stdout",
     "output_type": "stream",
     "text": [
      "Accuracy for model 4: 95.09\n"
     ]
    }
   ],
   "source": [
    "from sklearn.model_selection import GridSearchCV\n",
    "\n",
    "param_test = {\n",
    " 'max_depth':[4,5,6],\n",
    " 'min_child_weight':[4,5,6]\n",
    "}\n",
    "gsearch = GridSearchCV(estimator = xgb.XGBClassifier( learning_rate=0.1, n_estimators=140, max_depth=5,\n",
    " min_child_weight=2, gamma=0, subsample=0.8, colsample_bytree=0.8,\n",
    " objective= 'binary:logistic', nthread=4, scale_pos_weight=1,seed=27), \n",
    " param_grid = param_test, scoring='roc_auc',n_jobs=4,iid=False, cv=5)\n",
    "\n",
    "train_model4 = gsearch.fit(X_train, y_train)\n",
    "pred4 = train_model4.predict(X_test)\n",
    "print(\"Accuracy for model 4: %.2f\" % (accuracy_score(y_test, pred4) * 100))"
   ]
  },
  {
   "cell_type": "code",
   "execution_count": 20,
   "metadata": {},
   "outputs": [
    {
     "name": "stderr",
     "output_type": "stream",
     "text": [
      "/Users/yaredhurisa/anaconda3/lib/python3.7/site-packages/sklearn/model_selection/_search.py:823: FutureWarning: The parameter 'iid' is deprecated in 0.22 and will be removed in 0.24.\n",
      "  \"removed in 0.24.\", FutureWarning\n"
     ]
    },
    {
     "name": "stdout",
     "output_type": "stream",
     "text": [
      "Accuracy for model 5: 95.09\n"
     ]
    }
   ],
   "source": [
    "param_test2b = {\n",
    " 'min_child_weight':[6,8,10,12]\n",
    "}\n",
    "gsearch2b = GridSearchCV(estimator = xgb.XGBClassifier( learning_rate=0.1, n_estimators=140, max_depth=4,\n",
    " min_child_weight=2, gamma=0, subsample=0.8, colsample_bytree=0.8,\n",
    " objective= 'binary:logistic', nthread=4, scale_pos_weight=1,seed=27), \n",
    " param_grid = param_test2b, scoring='roc_auc',n_jobs=4,iid=False, cv=5)\n",
    "\n",
    "train_model5 = gsearch2b.fit(X_train, y_train)\n",
    "pred5 = train_model5.predict(X_test)\n",
    "print(\"Accuracy for model 5: %.2f\" % (accuracy_score(y_test, pred5) * 100))"
   ]
  },
  {
   "cell_type": "code",
   "execution_count": 21,
   "metadata": {},
   "outputs": [
    {
     "name": "stderr",
     "output_type": "stream",
     "text": [
      "/Users/yaredhurisa/anaconda3/lib/python3.7/site-packages/sklearn/model_selection/_search.py:823: FutureWarning: The parameter 'iid' is deprecated in 0.22 and will be removed in 0.24.\n",
      "  \"removed in 0.24.\", FutureWarning\n"
     ]
    },
    {
     "name": "stdout",
     "output_type": "stream",
     "text": [
      "Accuracy for model 6: 95.09\n"
     ]
    }
   ],
   "source": [
    "#Tune Gamma\n",
    "param_test3 = {\n",
    " 'gamma':[i/10.0 for i in range(0,5)]\n",
    "}\n",
    "gsearch3 = GridSearchCV(estimator = xgb.XGBClassifier( learning_rate =0.1, n_estimators=140, max_depth=4,\n",
    " min_child_weight=6, gamma=0, subsample=0.8, colsample_bytree=0.8,\n",
    " objective= 'binary:logistic', nthread=4, scale_pos_weight=1,seed=27), \n",
    " param_grid = param_test3, scoring='roc_auc',n_jobs=4,iid=False, cv=5)\n",
    "\n",
    "train_model6 = gsearch3.fit(X_train, y_train)\n",
    "pred6 = train_model6.predict(X_test)\n",
    "print(\"Accuracy for model 6: %.2f\" % (accuracy_score(y_test, pred6) * 100))"
   ]
  },
  {
   "cell_type": "code",
   "execution_count": 22,
   "metadata": {},
   "outputs": [
    {
     "name": "stdout",
     "output_type": "stream",
     "text": [
      "Accuracy for model 7: 95.09\n"
     ]
    }
   ],
   "source": [
    "xgb2 = xgb.XGBClassifier(\n",
    " learning_rate =0.7,\n",
    " n_estimators=1000,\n",
    " max_depth=4,\n",
    " min_child_weight=6,\n",
    " gamma=0,\n",
    " subsample=0.8,\n",
    " colsample_bytree=0.8,\n",
    " objective= 'binary:logistic',\n",
    " nthread=4,\n",
    " scale_pos_weight=1,\n",
    " seed=27)\n",
    "\n",
    "train_model7 = xgb2.fit(X_train, y_train)\n",
    "pred7 = train_model7.predict(X_test)\n",
    "print(\"Accuracy for model 7: %.2f\" % (accuracy_score(y_test, pred7) * 100))"
   ]
  },
  {
   "cell_type": "code",
   "execution_count": 23,
   "metadata": {},
   "outputs": [
    {
     "name": "stdout",
     "output_type": "stream",
     "text": [
      "Accuracy for Random Forest Model: 97.18\n"
     ]
    }
   ],
   "source": [
    "#Let's train a fast RandomForest on the dataset\n",
    "from sklearn.ensemble import RandomForestClassifier\n",
    "\n",
    "rfc = RandomForestClassifier()\n",
    "rfc_model = rfc.fit(X_train, y_train)\n",
    "pred8 = rfc_model.predict(X_test)\n",
    "print(\"Accuracy for Random Forest Model: %.2f\" % (accuracy_score(y_test, pred8) * 100))"
   ]
  },
  {
   "cell_type": "code",
   "execution_count": null,
   "metadata": {},
   "outputs": [],
   "source": []
  }
 ],
 "metadata": {
  "kernelspec": {
   "display_name": "Python 3",
   "language": "python",
   "name": "python3"
  },
  "language_info": {
   "codemirror_mode": {
    "name": "ipython",
    "version": 3
   },
   "file_extension": ".py",
   "mimetype": "text/x-python",
   "name": "python",
   "nbconvert_exporter": "python",
   "pygments_lexer": "ipython3",
   "version": "3.7.6"
  }
 },
 "nbformat": 4,
 "nbformat_minor": 4
}
