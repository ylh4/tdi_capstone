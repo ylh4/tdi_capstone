{
 "cells": [
  {
   "cell_type": "markdown",
   "metadata": {},
   "source": [
    "# Communal Conflict model in Ethiopia\n",
    "## Ethiopia, admin2, monthly data\n",
    "### 1. Random Forest Classifier "
   ]
  },
  {
   "cell_type": "code",
   "execution_count": 116,
   "metadata": {},
   "outputs": [],
   "source": [
    "from sklearn.ensemble import RandomForestClassifier\n",
    "from sklearn.metrics import confusion_matrix\n",
    "import xgboost\n",
    "from sklearn.model_selection import train_test_split, GridSearchCV\n",
    "import seaborn as sns\n",
    "\n",
    "import numpy as np\n",
    "import pandas as pd\n",
    "import os\n",
    "import matplotlib.pyplot as plt"
   ]
  },
  {
   "cell_type": "code",
   "execution_count": 117,
   "metadata": {},
   "outputs": [],
   "source": [
    "#os.chdir('/home/ubuntu/darpa/models/conflict_probability')"
   ]
  },
  {
   "cell_type": "code",
   "execution_count": 118,
   "metadata": {},
   "outputs": [
    {
     "data": {
      "text/plain": [
       "['Unnamed: 0',\n",
       " 'date',\n",
       " 'group',\n",
       " 'cc_onset_current',\n",
       " 'fatalities_current',\n",
       " 'cc_onset_lag',\n",
       " 'fatalities_lag',\n",
       " 'actor_state',\n",
       " 'actor_rebel_groups',\n",
       " 'actor_political_militias',\n",
       " 'actor_identity_militias',\n",
       " 'actor_civilians',\n",
       " 'actor_others',\n",
       " 'inflation_all',\n",
       " 'rainfall',\n",
       " 'temperature mean',\n",
       " 'btotl',\n",
       " 'maize_ETB_KG',\n",
       " 'teff_ETB_KG',\n",
       " 'wheat_ETB_KG',\n",
       " 'mean ndvi',\n",
       " 'fs_Crisis',\n",
       " 'fs_Emergency',\n",
       " 'fs_Famine',\n",
       " 'fs_Minimal',\n",
       " 'fs_Stressed']"
      ]
     },
     "execution_count": 118,
     "metadata": {},
     "output_type": "execute_result"
    }
   ],
   "source": [
    "#url = 'https://data.kimetrica.com/dataset/4dbc3cc7-9474-49f2-bfd4-231e78401caa/resource/7423b71d-ce8c-437c-9fe6-2d9ba58d6155/download/dataset_communal_cnflict_model.csv'\n",
    "df = pd.read_csv('/Users/yaredhurisa/Google Drive/Probability of conflict/indicators/eth_cc_final_dataset.csv')\n",
    "list(df.columns)"
   ]
  },
  {
   "cell_type": "code",
   "execution_count": 119,
   "metadata": {},
   "outputs": [],
   "source": [
    "df=df.drop(['fatalities_current'], axis=1)"
   ]
  },
  {
   "cell_type": "code",
   "execution_count": 120,
   "metadata": {},
   "outputs": [],
   "source": [
    "#Training, validation and test \n",
    "start_date = \"2009-12-1\"\n",
    "end_date = \"2018-1-1\"\n",
    "mask = (df['date'] > start_date) & (df['date'] < end_date)\n",
    "train = df.loc[mask]\n",
    "\n",
    "start_date = \"2017-12-1\"\n",
    "end_date = \"2019-1-1\"\n",
    "mask = (df['date'] > start_date) & (df['date'] < end_date)\n",
    "test = df.loc[mask]\n"
   ]
  },
  {
   "cell_type": "code",
   "execution_count": 121,
   "metadata": {},
   "outputs": [
    {
     "data": {
      "text/plain": [
       "(5775, 25)"
      ]
     },
     "execution_count": 121,
     "metadata": {},
     "output_type": "execute_result"
    }
   ],
   "source": [
    "train.shape"
   ]
  },
  {
   "cell_type": "code",
   "execution_count": 122,
   "metadata": {},
   "outputs": [],
   "source": [
    "X= df[[\n",
    "   'cc_onset_lag',\n",
    " 'fatalities_lag',\n",
    " 'actor_state',\n",
    " 'actor_rebel_groups',\n",
    " 'actor_political_militias',\n",
    " 'actor_identity_militias',\n",
    " 'actor_civilians',\n",
    " 'actor_others',\n",
    " 'inflation_all',\n",
    " 'rainfall',\n",
    " 'temperature mean',\n",
    " 'btotl',\n",
    " 'maize_ETB_KG',\n",
    " 'teff_ETB_KG',\n",
    " 'wheat_ETB_KG',\n",
    " 'mean ndvi',\n",
    " 'fs_Crisis',\n",
    " 'fs_Emergency',\n",
    " 'fs_Famine',\n",
    " 'fs_Minimal',\n",
    " 'fs_Stressed'\n",
    "  ]]"
   ]
  },
  {
   "cell_type": "code",
   "execution_count": 123,
   "metadata": {},
   "outputs": [],
   "source": [
    "y = df['cc_onset_current']"
   ]
  },
  {
   "cell_type": "code",
   "execution_count": 124,
   "metadata": {},
   "outputs": [],
   "source": [
    "X_train = train[[\n",
    "   'cc_onset_lag',\n",
    " 'fatalities_lag',\n",
    " 'actor_state',\n",
    " 'actor_rebel_groups',\n",
    " 'actor_political_militias',\n",
    " 'actor_identity_militias',\n",
    " 'actor_civilians',\n",
    " 'actor_others',\n",
    " 'inflation_all',\n",
    " 'rainfall',\n",
    " 'temperature mean',\n",
    " 'btotl',\n",
    " 'maize_ETB_KG',\n",
    " 'teff_ETB_KG',\n",
    " 'wheat_ETB_KG',\n",
    " 'mean ndvi',\n",
    " 'fs_Crisis',\n",
    " 'fs_Emergency',\n",
    " 'fs_Famine',\n",
    " 'fs_Minimal',\n",
    " 'fs_Stressed'\n",
    "  ]]"
   ]
  },
  {
   "cell_type": "code",
   "execution_count": 125,
   "metadata": {},
   "outputs": [],
   "source": [
    "y_train = train['cc_onset_current']"
   ]
  },
  {
   "cell_type": "code",
   "execution_count": 126,
   "metadata": {},
   "outputs": [],
   "source": [
    "X_test = test[[\n",
    "   'cc_onset_lag',\n",
    " 'fatalities_lag',\n",
    " 'actor_state',\n",
    " 'actor_rebel_groups',\n",
    " 'actor_political_militias',\n",
    " 'actor_identity_militias',\n",
    " 'actor_civilians',\n",
    " 'actor_others',\n",
    " 'inflation_all',\n",
    " 'rainfall',\n",
    " 'temperature mean',\n",
    " 'btotl',\n",
    " 'maize_ETB_KG',\n",
    " 'teff_ETB_KG',\n",
    " 'wheat_ETB_KG',\n",
    " 'mean ndvi',\n",
    " 'fs_Crisis',\n",
    " 'fs_Emergency',\n",
    " 'fs_Famine',\n",
    " 'fs_Minimal',\n",
    " 'fs_Stressed']]"
   ]
  },
  {
   "cell_type": "code",
   "execution_count": 127,
   "metadata": {},
   "outputs": [],
   "source": [
    "y_test = test['cc_onset_current']"
   ]
  },
  {
   "cell_type": "markdown",
   "metadata": {},
   "source": [
    "# Visualize the data distribution"
   ]
  },
  {
   "cell_type": "code",
   "execution_count": 128,
   "metadata": {},
   "outputs": [
    {
     "data": {
      "image/png": "[encoded data removed]",
      "text/plain": [
       "<Figure size 432x288 with 1 Axes>"
      ]
     },
     "metadata": {
      "needs_background": "light"
     },
     "output_type": "display_data"
    }
   ],
   "source": [
    "break_down = y_test.value_counts(normalize=True)\n",
    "break_down.plot(kind='bar')\n",
    "plt.show()\n",
    "#ax = train['conflict_onset'].plot.bar(rot=0)"
   ]
  },
  {
   "cell_type": "markdown",
   "metadata": {},
   "source": [
    "### Classical RF"
   ]
  },
  {
   "cell_type": "code",
   "execution_count": 129,
   "metadata": {},
   "outputs": [],
   "source": [
    "rf=RandomForestClassifier()"
   ]
  },
  {
   "cell_type": "code",
   "execution_count": 130,
   "metadata": {},
   "outputs": [
    {
     "data": {
      "text/plain": [
       "RandomForestClassifier(bootstrap=True, ccp_alpha=0.0, class_weight=None,\n",
       "                       criterion='gini', max_depth=None, max_features='auto',\n",
       "                       max_leaf_nodes=None, max_samples=None,\n",
       "                       min_impurity_decrease=0.0, min_impurity_split=None,\n",
       "                       min_samples_leaf=1, min_samples_split=2,\n",
       "                       min_weight_fraction_leaf=0.0, n_estimators=100,\n",
       "                       n_jobs=None, oob_score=False, random_state=None,\n",
       "                       verbose=0, warm_start=False)"
      ]
     },
     "execution_count": 130,
     "metadata": {},
     "output_type": "execute_result"
    }
   ],
   "source": [
    "rf.fit(X_train, y_train)"
   ]
  },
  {
   "cell_type": "code",
   "execution_count": 131,
   "metadata": {},
   "outputs": [],
   "source": [
    "rf_train_prediction=rf_grid.predict(X_train)"
   ]
  },
  {
   "cell_type": "code",
   "execution_count": 132,
   "metadata": {},
   "outputs": [
    {
     "data": {
      "text/plain": [
       "array([[5486,  142],\n",
       "       [  23,  124]])"
      ]
     },
     "execution_count": 132,
     "metadata": {},
     "output_type": "execute_result"
    }
   ],
   "source": [
    "confusion_matrix(y_train, rf_train_prediction)"
   ]
  },
  {
   "cell_type": "code",
   "execution_count": 133,
   "metadata": {},
   "outputs": [
    {
     "name": "stdout",
     "output_type": "stream",
     "text": [
      "              precision    recall  f1-score   support\n",
      "\n",
      "         0.0       1.00      0.97      0.99      5628\n",
      "         1.0       0.47      0.84      0.60       147\n",
      "\n",
      "    accuracy                           0.97      5775\n",
      "   macro avg       0.73      0.91      0.79      5775\n",
      "weighted avg       0.98      0.97      0.98      5775\n",
      "\n"
     ]
    }
   ],
   "source": [
    "from sklearn.metrics import classification_report\n",
    "print(classification_report(y_train, rf_train_prediction))"
   ]
  },
  {
   "cell_type": "code",
   "execution_count": 134,
   "metadata": {},
   "outputs": [],
   "source": [
    "rf_test_prediction=rf_grid.predict(X_test)"
   ]
  },
  {
   "cell_type": "code",
   "execution_count": 135,
   "metadata": {},
   "outputs": [
    {
     "data": {
      "text/plain": [
       "array([[495,  86],\n",
       "       [ 36,  43]])"
      ]
     },
     "execution_count": 135,
     "metadata": {},
     "output_type": "execute_result"
    }
   ],
   "source": [
    "confusion_matrix(y_test, rf_test_prediction)"
   ]
  },
  {
   "cell_type": "code",
   "execution_count": 136,
   "metadata": {},
   "outputs": [
    {
     "name": "stdout",
     "output_type": "stream",
     "text": [
      "              precision    recall  f1-score   support\n",
      "\n",
      "         0.0       0.93      0.85      0.89       581\n",
      "         1.0       0.33      0.54      0.41        79\n",
      "\n",
      "    accuracy                           0.82       660\n",
      "   macro avg       0.63      0.70      0.65       660\n",
      "weighted avg       0.86      0.82      0.83       660\n",
      "\n"
     ]
    }
   ],
   "source": [
    "from sklearn.metrics import classification_report\n",
    "print(classification_report(y_test, rf_test_prediction))"
   ]
  },
  {
   "cell_type": "markdown",
   "metadata": {},
   "source": [
    "# Train RF with gridsearch"
   ]
  },
  {
   "cell_type": "code",
   "execution_count": 137,
   "metadata": {},
   "outputs": [],
   "source": [
    "rf_model =RandomForestClassifier(class_weight='balanced')\n",
    "\n",
    "params={\n",
    "      'bootstrap': [True],\n",
    " 'max_depth': [8,10,12],\n",
    "  'min_samples_split':[2,6,8],\n",
    "  'min_samples_leaf': [2,4,6],\n",
    "   }"
   ]
  },
  {
   "cell_type": "code",
   "execution_count": 138,
   "metadata": {},
   "outputs": [
    {
     "name": "stdout",
     "output_type": "stream",
     "text": [
      "{'bootstrap': True, 'max_depth': 12, 'min_samples_leaf': 2, 'min_samples_split': 2}\n"
     ]
    }
   ],
   "source": [
    "rf_grid = GridSearchCV(rf_model, params, cv=5)\n",
    "rf_grid.fit(X_train, y_train)\n",
    "print(rf_grid.best_params_)"
   ]
  },
  {
   "cell_type": "code",
   "execution_count": 139,
   "metadata": {},
   "outputs": [],
   "source": [
    "rf_test_prediction=rf_grid.predict(X_test)"
   ]
  },
  {
   "cell_type": "code",
   "execution_count": 140,
   "metadata": {},
   "outputs": [
    {
     "data": {
      "text/plain": [
       "array([[496,  85],\n",
       "       [ 35,  44]])"
      ]
     },
     "execution_count": 140,
     "metadata": {},
     "output_type": "execute_result"
    }
   ],
   "source": [
    "confusion_matrix(y_test, rf_test_prediction)"
   ]
  },
  {
   "cell_type": "code",
   "execution_count": 141,
   "metadata": {},
   "outputs": [
    {
     "name": "stdout",
     "output_type": "stream",
     "text": [
      "              precision    recall  f1-score   support\n",
      "\n",
      "         0.0       0.93      0.85      0.89       581\n",
      "         1.0       0.34      0.56      0.42        79\n",
      "\n",
      "    accuracy                           0.82       660\n",
      "   macro avg       0.64      0.71      0.66       660\n",
      "weighted avg       0.86      0.82      0.84       660\n",
      "\n"
     ]
    }
   ],
   "source": [
    "from sklearn.metrics import classification_report\n",
    "print(classification_report(y_test, rf_test_prediction))"
   ]
  },
  {
   "cell_type": "code",
   "execution_count": null,
   "metadata": {},
   "outputs": [],
   "source": []
  }
 ],
 "metadata": {
  "kernelspec": {
   "display_name": "Python 3",
   "language": "python",
   "name": "python3"
  },
  "language_info": {
   "codemirror_mode": {
    "name": "ipython",
    "version": 3
   },
   "file_extension": ".py",
   "mimetype": "text/x-python",
   "name": "python",
   "nbconvert_exporter": "python",
   "pygments_lexer": "ipython3",
   "version": "3.7.6"
  }
 },
 "nbformat": 4,
 "nbformat_minor": 4
}
